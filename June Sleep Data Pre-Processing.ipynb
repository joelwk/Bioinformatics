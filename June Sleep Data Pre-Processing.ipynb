{
 "cells": [
  {
   "cell_type": "code",
   "execution_count": 1,
   "metadata": {},
   "outputs": [],
   "source": [
    "import numpy as np\n",
    "import csv\n",
    "import sys\n",
    "import os\n",
    "import pandas as pd"
   ]
  },
  {
   "cell_type": "markdown",
   "metadata": {},
   "source": [
    "## **Load Data**"
   ]
  },
  {
   "cell_type": "markdown",
   "metadata": {},
   "source": [
    "Load June.csv fitbit data. The csv file doesnt not come in a usable format. The following will allow us to work with it."
   ]
  },
  {
   "cell_type": "code",
   "execution_count": 2,
   "metadata": {},
   "outputs": [],
   "source": [
    "filename = 'June.csv'"
   ]
  },
  {
   "cell_type": "code",
   "execution_count": 8,
   "metadata": {},
   "outputs": [],
   "source": [
    "fields = []\n",
    "rows = []\n",
    "\n",
    "with open('June.csv', 'r') as csvfile:\n",
    "    csvfile = csvfile.read().split('\\n')\n",
    "    csvreader = csv.reader(csvfile)\n",
    "    fields = next(csvreader)\n",
    "    for row in csvreader:\n",
    "        rows.append(row)\n",
    "data = pd.DataFrame(rows)"
   ]
  },
  {
   "cell_type": "markdown",
   "metadata": {},
   "source": [
    "Need to locate where our sleep data starts"
   ]
  },
  {
   "cell_type": "code",
   "execution_count": 9,
   "metadata": {},
   "outputs": [
    {
     "data": {
      "text/html": [
       "<div>\n",
       "<style scoped>\n",
       "    .dataframe tbody tr th:only-of-type {\n",
       "        vertical-align: middle;\n",
       "    }\n",
       "\n",
       "    .dataframe tbody tr th {\n",
       "        vertical-align: top;\n",
       "    }\n",
       "\n",
       "    .dataframe thead th {\n",
       "        text-align: right;\n",
       "    }\n",
       "</style>\n",
       "<table border=\"1\" class=\"dataframe\">\n",
       "  <thead>\n",
       "    <tr style=\"text-align: right;\">\n",
       "      <th></th>\n",
       "      <th>0</th>\n",
       "      <th>1</th>\n",
       "      <th>2</th>\n",
       "      <th>3</th>\n",
       "      <th>4</th>\n",
       "      <th>5</th>\n",
       "      <th>6</th>\n",
       "      <th>7</th>\n",
       "      <th>8</th>\n",
       "      <th>9</th>\n",
       "    </tr>\n",
       "  </thead>\n",
       "  <tbody>\n",
       "    <tr>\n",
       "      <th>32</th>\n",
       "      <td>Sleep</td>\n",
       "      <td>None</td>\n",
       "      <td>None</td>\n",
       "      <td>None</td>\n",
       "      <td>None</td>\n",
       "      <td>None</td>\n",
       "      <td>None</td>\n",
       "      <td>None</td>\n",
       "      <td>None</td>\n",
       "      <td>None</td>\n",
       "    </tr>\n",
       "  </tbody>\n",
       "</table>\n",
       "</div>"
      ],
      "text/plain": [
       "        0     1     2     3     4     5     6     7     8     9\n",
       "32  Sleep  None  None  None  None  None  None  None  None  None"
      ]
     },
     "execution_count": 9,
     "metadata": {},
     "output_type": "execute_result"
    }
   ],
   "source": [
    "#locate Sleep data\n",
    "df = data[data.eq('Sleep').any(axis=1)]\n",
    "df"
   ]
  },
  {
   "cell_type": "markdown",
   "metadata": {},
   "source": [
    "From this location we can assume that the data will start at the following row so we can parse the data at row 33 and add 30 days to represent all of June"
   ]
  },
  {
   "cell_type": "code",
   "execution_count": 10,
   "metadata": {},
   "outputs": [],
   "source": [
    "#Set dataframe with header of sleep data and following array\n",
    "data_h = data.iloc[33]\n",
    "data_b = data.iloc[34:64]\n",
    "data = np.array(data_b)\n",
    "data = pd.DataFrame(data, columns=data_h)\n",
    "data = data.replace(',','', regex=True)\n",
    "#Need to inverse the data so it will be in acccending order\n",
    "data = data.iloc[::-1]"
   ]
  },
  {
   "cell_type": "code",
   "execution_count": 11,
   "metadata": {},
   "outputs": [
    {
     "data": {
      "text/html": [
       "<div>\n",
       "<style scoped>\n",
       "    .dataframe tbody tr th:only-of-type {\n",
       "        vertical-align: middle;\n",
       "    }\n",
       "\n",
       "    .dataframe tbody tr th {\n",
       "        vertical-align: top;\n",
       "    }\n",
       "\n",
       "    .dataframe thead th {\n",
       "        text-align: right;\n",
       "    }\n",
       "</style>\n",
       "<table border=\"1\" class=\"dataframe\">\n",
       "  <thead>\n",
       "    <tr style=\"text-align: right;\">\n",
       "      <th>33</th>\n",
       "      <th>Start Time</th>\n",
       "      <th>End Time</th>\n",
       "      <th>Minutes Asleep</th>\n",
       "      <th>Minutes Awake</th>\n",
       "      <th>Number of Awakenings</th>\n",
       "      <th>Time in Bed</th>\n",
       "      <th>Minutes REM Sleep</th>\n",
       "      <th>Minutes Light Sleep</th>\n",
       "      <th>Minutes Deep Sleep</th>\n",
       "      <th>NaN</th>\n",
       "    </tr>\n",
       "  </thead>\n",
       "  <tbody>\n",
       "    <tr>\n",
       "      <th>29</th>\n",
       "      <td>2020-06-01 10:38PM</td>\n",
       "      <td>2020-06-02 4:15AM</td>\n",
       "      <td>290</td>\n",
       "      <td>47</td>\n",
       "      <td>18</td>\n",
       "      <td>337</td>\n",
       "      <td>58</td>\n",
       "      <td>200</td>\n",
       "      <td>32</td>\n",
       "      <td>None</td>\n",
       "    </tr>\n",
       "    <tr>\n",
       "      <th>28</th>\n",
       "      <td>2020-06-02 9:18PM</td>\n",
       "      <td>2020-06-02 11:55PM</td>\n",
       "      <td>136</td>\n",
       "      <td>21</td>\n",
       "      <td>5</td>\n",
       "      <td>157</td>\n",
       "      <td>N/A</td>\n",
       "      <td>N/A</td>\n",
       "      <td>N/A</td>\n",
       "      <td>None</td>\n",
       "    </tr>\n",
       "    <tr>\n",
       "      <th>27</th>\n",
       "      <td>2020-06-03 1:37AM</td>\n",
       "      <td>2020-06-03 4:39AM</td>\n",
       "      <td>153</td>\n",
       "      <td>29</td>\n",
       "      <td>16</td>\n",
       "      <td>182</td>\n",
       "      <td>9</td>\n",
       "      <td>119</td>\n",
       "      <td>25</td>\n",
       "      <td>None</td>\n",
       "    </tr>\n",
       "    <tr>\n",
       "      <th>26</th>\n",
       "      <td>2020-06-03 11:05PM</td>\n",
       "      <td>2020-06-04 2:13AM</td>\n",
       "      <td>150</td>\n",
       "      <td>38</td>\n",
       "      <td>13</td>\n",
       "      <td>188</td>\n",
       "      <td>15</td>\n",
       "      <td>92</td>\n",
       "      <td>43</td>\n",
       "      <td>None</td>\n",
       "    </tr>\n",
       "    <tr>\n",
       "      <th>25</th>\n",
       "      <td>2020-06-04 11:22PM</td>\n",
       "      <td>2020-06-05 4:23AM</td>\n",
       "      <td>255</td>\n",
       "      <td>46</td>\n",
       "      <td>22</td>\n",
       "      <td>301</td>\n",
       "      <td>16</td>\n",
       "      <td>207</td>\n",
       "      <td>32</td>\n",
       "      <td>None</td>\n",
       "    </tr>\n",
       "  </tbody>\n",
       "</table>\n",
       "</div>"
      ],
      "text/plain": [
       "33          Start Time            End Time Minutes Asleep Minutes Awake  \\\n",
       "29  2020-06-01 10:38PM   2020-06-02 4:15AM            290            47   \n",
       "28   2020-06-02 9:18PM  2020-06-02 11:55PM            136            21   \n",
       "27   2020-06-03 1:37AM   2020-06-03 4:39AM            153            29   \n",
       "26  2020-06-03 11:05PM   2020-06-04 2:13AM            150            38   \n",
       "25  2020-06-04 11:22PM   2020-06-05 4:23AM            255            46   \n",
       "\n",
       "33 Number of Awakenings Time in Bed Minutes REM Sleep Minutes Light Sleep  \\\n",
       "29                   18         337                58                 200   \n",
       "28                    5         157               N/A                 N/A   \n",
       "27                   16         182                 9                 119   \n",
       "26                   13         188                15                  92   \n",
       "25                   22         301                16                 207   \n",
       "\n",
       "33 Minutes Deep Sleep   NaN  \n",
       "29                 32  None  \n",
       "28                N/A  None  \n",
       "27                 25  None  \n",
       "26                 43  None  \n",
       "25                 32  None  "
      ]
     },
     "execution_count": 11,
     "metadata": {},
     "output_type": "execute_result"
    }
   ],
   "source": [
    "data.head()"
   ]
  },
  {
   "cell_type": "markdown",
   "metadata": {},
   "source": [
    "The data is in str format so depending on what we want to use in our analysis will require us to convert it to another data type.\n",
    "We will take Minutes Asleep and Number of Awakenin"
   ]
  },
  {
   "cell_type": "code",
   "execution_count": null,
   "metadata": {},
   "outputs": [],
   "source": [
    "data['Minutes Asleep'] = data['Minutes Asleep'].astype(str).astype(float)\n",
    "data['Number of Awakenings'] = data['Number of Awakenings'].astype(str).astype(int)"
   ]
  }
 ],
 "metadata": {
  "kernelspec": {
   "display_name": "Python 3",
   "language": "python",
   "name": "python3"
  },
  "language_info": {
   "codemirror_mode": {
    "name": "ipython",
    "version": 3
   },
   "file_extension": ".py",
   "mimetype": "text/x-python",
   "name": "python",
   "nbconvert_exporter": "python",
   "pygments_lexer": "ipython3",
   "version": "3.7.6"
  }
 },
 "nbformat": 4,
 "nbformat_minor": 4
}
